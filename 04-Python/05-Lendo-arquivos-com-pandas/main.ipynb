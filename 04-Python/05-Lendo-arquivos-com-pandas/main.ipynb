{
 "cells": [
  {
   "cell_type": "markdown",
   "id": "111bc2f4",
   "metadata": {},
   "source": [
    "<h1>Reading in Files</h1>"
   ]
  },
  {
   "cell_type": "code",
   "execution_count": 1,
   "id": "d7b5fd37",
   "metadata": {},
   "outputs": [],
   "source": [
    "import pandas as pd"
   ]
  },
  {
   "cell_type": "markdown",
   "id": "077e5876",
   "metadata": {},
   "source": [
    "<h4>Lendo Arquivo CSV</h4>"
   ]
  },
  {
   "cell_type": "code",
   "execution_count": null,
   "id": "826c004f",
   "metadata": {},
   "outputs": [],
   "source": [
    "df = pd.read_csv('countries of the world.csv')\n",
    "df"
   ]
  },
  {
   "cell_type": "markdown",
   "id": "73cbad5a",
   "metadata": {},
   "source": [
    "<h4>Lendo Arquivo TXT</h4>"
   ]
  },
  {
   "cell_type": "code",
   "execution_count": null,
   "id": "55fa8e1a",
   "metadata": {},
   "outputs": [],
   "source": [
    "df = pd.read_table('countries of the world.txt')\n",
    "df"
   ]
  },
  {
   "cell_type": "markdown",
   "id": "c4a25b39",
   "metadata": {},
   "source": [
    "<h4>Lendo Arquivo JSON</h4>"
   ]
  },
  {
   "cell_type": "code",
   "execution_count": null,
   "id": "fc9f8328",
   "metadata": {},
   "outputs": [],
   "source": [
    "df = pd.read_json('json_sample.json')\n",
    "df"
   ]
  },
  {
   "cell_type": "markdown",
   "id": "5e6b4693",
   "metadata": {},
   "source": [
    "<h4>Escolhendo a tabela que sera exibida do arquivo excel</h4>"
   ]
  },
  {
   "cell_type": "code",
   "execution_count": null,
   "id": "2bd33fd5",
   "metadata": {},
   "outputs": [],
   "source": [
    "df2 = pd.read_excel('world_population_excel_workbook.xlsx', sheet_name = 'Sheet1')\n",
    "df2"
   ]
  },
  {
   "cell_type": "code",
   "execution_count": null,
   "id": "3d1ee384",
   "metadata": {},
   "outputs": [],
   "source": [
    "pd.set_option('display.max.rows', 235)\n",
    "pd.set_option('display.max.columns', 40)"
   ]
  },
  {
   "cell_type": "code",
   "execution_count": 14,
   "id": "cee0fc98",
   "metadata": {},
   "outputs": [
    {
     "name": "stdout",
     "output_type": "stream",
     "text": [
      "<class 'pandas.core.frame.DataFrame'>\n",
      "RangeIndex: 234 entries, 0 to 233\n",
      "Data columns (total 4 columns):\n",
      " #   Column   Non-Null Count  Dtype \n",
      "---  ------   --------------  ----- \n",
      " 0   Rank     234 non-null    int64 \n",
      " 1   CCA3     234 non-null    object\n",
      " 2   Country  234 non-null    object\n",
      " 3   Capital  234 non-null    object\n",
      "dtypes: int64(1), object(3)\n",
      "memory usage: 7.4+ KB\n"
     ]
    }
   ],
   "source": [
    "df2.info()"
   ]
  },
  {
   "cell_type": "code",
   "execution_count": 15,
   "id": "d7edf006",
   "metadata": {},
   "outputs": [
    {
     "data": {
      "text/plain": [
       "(234, 4)"
      ]
     },
     "execution_count": 15,
     "metadata": {},
     "output_type": "execute_result"
    }
   ],
   "source": [
    "df2.shape"
   ]
  },
  {
   "cell_type": "code",
   "execution_count": 17,
   "id": "2076db77",
   "metadata": {},
   "outputs": [
    {
     "data": {
      "text/html": [
       "<div>\n",
       "<style scoped>\n",
       "    .dataframe tbody tr th:only-of-type {\n",
       "        vertical-align: middle;\n",
       "    }\n",
       "\n",
       "    .dataframe tbody tr th {\n",
       "        vertical-align: top;\n",
       "    }\n",
       "\n",
       "    .dataframe thead th {\n",
       "        text-align: right;\n",
       "    }\n",
       "</style>\n",
       "<table border=\"1\" class=\"dataframe\">\n",
       "  <thead>\n",
       "    <tr style=\"text-align: right;\">\n",
       "      <th></th>\n",
       "      <th>Rank</th>\n",
       "      <th>CCA3</th>\n",
       "      <th>Country</th>\n",
       "      <th>Capital</th>\n",
       "    </tr>\n",
       "  </thead>\n",
       "  <tbody>\n",
       "    <tr>\n",
       "      <th>0</th>\n",
       "      <td>36</td>\n",
       "      <td>AFG</td>\n",
       "      <td>Afghanistan</td>\n",
       "      <td>Kabul</td>\n",
       "    </tr>\n",
       "    <tr>\n",
       "      <th>1</th>\n",
       "      <td>138</td>\n",
       "      <td>ALB</td>\n",
       "      <td>Albania</td>\n",
       "      <td>Tirana</td>\n",
       "    </tr>\n",
       "    <tr>\n",
       "      <th>2</th>\n",
       "      <td>34</td>\n",
       "      <td>DZA</td>\n",
       "      <td>Algeria</td>\n",
       "      <td>Algiers</td>\n",
       "    </tr>\n",
       "    <tr>\n",
       "      <th>3</th>\n",
       "      <td>213</td>\n",
       "      <td>ASM</td>\n",
       "      <td>American Samoa</td>\n",
       "      <td>Pago Pago</td>\n",
       "    </tr>\n",
       "    <tr>\n",
       "      <th>4</th>\n",
       "      <td>203</td>\n",
       "      <td>AND</td>\n",
       "      <td>Andorra</td>\n",
       "      <td>Andorra la Vella</td>\n",
       "    </tr>\n",
       "    <tr>\n",
       "      <th>5</th>\n",
       "      <td>42</td>\n",
       "      <td>AGO</td>\n",
       "      <td>Angola</td>\n",
       "      <td>Luanda</td>\n",
       "    </tr>\n",
       "    <tr>\n",
       "      <th>6</th>\n",
       "      <td>224</td>\n",
       "      <td>AIA</td>\n",
       "      <td>Anguilla</td>\n",
       "      <td>The Valley</td>\n",
       "    </tr>\n",
       "    <tr>\n",
       "      <th>7</th>\n",
       "      <td>201</td>\n",
       "      <td>ATG</td>\n",
       "      <td>Antigua and Barbuda</td>\n",
       "      <td>Saint Johnâ€™s</td>\n",
       "    </tr>\n",
       "    <tr>\n",
       "      <th>8</th>\n",
       "      <td>33</td>\n",
       "      <td>ARG</td>\n",
       "      <td>Argentina</td>\n",
       "      <td>Buenos Aires</td>\n",
       "    </tr>\n",
       "    <tr>\n",
       "      <th>9</th>\n",
       "      <td>140</td>\n",
       "      <td>ARM</td>\n",
       "      <td>Armenia</td>\n",
       "      <td>Yerevan</td>\n",
       "    </tr>\n",
       "  </tbody>\n",
       "</table>\n",
       "</div>"
      ],
      "text/plain": [
       "   Rank CCA3              Country           Capital\n",
       "0    36  AFG          Afghanistan             Kabul\n",
       "1   138  ALB              Albania            Tirana\n",
       "2    34  DZA              Algeria           Algiers\n",
       "3   213  ASM       American Samoa         Pago Pago\n",
       "4   203  AND              Andorra  Andorra la Vella\n",
       "5    42  AGO               Angola            Luanda\n",
       "6   224  AIA             Anguilla        The Valley\n",
       "7   201  ATG  Antigua and Barbuda    Saint Johnâ€™s\n",
       "8    33  ARG            Argentina      Buenos Aires\n",
       "9   140  ARM              Armenia           Yerevan"
      ]
     },
     "execution_count": 17,
     "metadata": {},
     "output_type": "execute_result"
    }
   ],
   "source": [
    "df2.head(10)"
   ]
  },
  {
   "cell_type": "code",
   "execution_count": 18,
   "id": "601e27db",
   "metadata": {},
   "outputs": [
    {
     "data": {
      "text/html": [
       "<div>\n",
       "<style scoped>\n",
       "    .dataframe tbody tr th:only-of-type {\n",
       "        vertical-align: middle;\n",
       "    }\n",
       "\n",
       "    .dataframe tbody tr th {\n",
       "        vertical-align: top;\n",
       "    }\n",
       "\n",
       "    .dataframe thead th {\n",
       "        text-align: right;\n",
       "    }\n",
       "</style>\n",
       "<table border=\"1\" class=\"dataframe\">\n",
       "  <thead>\n",
       "    <tr style=\"text-align: right;\">\n",
       "      <th></th>\n",
       "      <th>Rank</th>\n",
       "      <th>CCA3</th>\n",
       "      <th>Country</th>\n",
       "      <th>Capital</th>\n",
       "    </tr>\n",
       "  </thead>\n",
       "  <tbody>\n",
       "    <tr>\n",
       "      <th>224</th>\n",
       "      <td>43</td>\n",
       "      <td>UZB</td>\n",
       "      <td>Uzbekistan</td>\n",
       "      <td>Tashkent</td>\n",
       "    </tr>\n",
       "    <tr>\n",
       "      <th>225</th>\n",
       "      <td>181</td>\n",
       "      <td>VUT</td>\n",
       "      <td>Vanuatu</td>\n",
       "      <td>Port-Vila</td>\n",
       "    </tr>\n",
       "    <tr>\n",
       "      <th>226</th>\n",
       "      <td>234</td>\n",
       "      <td>VAT</td>\n",
       "      <td>Vatican City</td>\n",
       "      <td>Vatican City</td>\n",
       "    </tr>\n",
       "    <tr>\n",
       "      <th>227</th>\n",
       "      <td>51</td>\n",
       "      <td>VEN</td>\n",
       "      <td>Venezuela</td>\n",
       "      <td>Caracas</td>\n",
       "    </tr>\n",
       "    <tr>\n",
       "      <th>228</th>\n",
       "      <td>16</td>\n",
       "      <td>VNM</td>\n",
       "      <td>Vietnam</td>\n",
       "      <td>Hanoi</td>\n",
       "    </tr>\n",
       "    <tr>\n",
       "      <th>229</th>\n",
       "      <td>226</td>\n",
       "      <td>WLF</td>\n",
       "      <td>Wallis and Futuna</td>\n",
       "      <td>Mata-Utu</td>\n",
       "    </tr>\n",
       "    <tr>\n",
       "      <th>230</th>\n",
       "      <td>172</td>\n",
       "      <td>ESH</td>\n",
       "      <td>Western Sahara</td>\n",
       "      <td>El AaiÃºn</td>\n",
       "    </tr>\n",
       "    <tr>\n",
       "      <th>231</th>\n",
       "      <td>46</td>\n",
       "      <td>YEM</td>\n",
       "      <td>Yemen</td>\n",
       "      <td>Sanaa</td>\n",
       "    </tr>\n",
       "    <tr>\n",
       "      <th>232</th>\n",
       "      <td>63</td>\n",
       "      <td>ZMB</td>\n",
       "      <td>Zambia</td>\n",
       "      <td>Lusaka</td>\n",
       "    </tr>\n",
       "    <tr>\n",
       "      <th>233</th>\n",
       "      <td>74</td>\n",
       "      <td>ZWE</td>\n",
       "      <td>Zimbabwe</td>\n",
       "      <td>Harare</td>\n",
       "    </tr>\n",
       "  </tbody>\n",
       "</table>\n",
       "</div>"
      ],
      "text/plain": [
       "     Rank CCA3            Country       Capital\n",
       "224    43  UZB         Uzbekistan      Tashkent\n",
       "225   181  VUT            Vanuatu     Port-Vila\n",
       "226   234  VAT       Vatican City  Vatican City\n",
       "227    51  VEN          Venezuela       Caracas\n",
       "228    16  VNM            Vietnam         Hanoi\n",
       "229   226  WLF  Wallis and Futuna      Mata-Utu\n",
       "230   172  ESH     Western Sahara     El AaiÃºn\n",
       "231    46  YEM              Yemen         Sanaa\n",
       "232    63  ZMB             Zambia        Lusaka\n",
       "233    74  ZWE           Zimbabwe        Harare"
      ]
     },
     "execution_count": 18,
     "metadata": {},
     "output_type": "execute_result"
    }
   ],
   "source": [
    "df2.tail(10)"
   ]
  },
  {
   "cell_type": "code",
   "execution_count": null,
   "id": "8792f68c",
   "metadata": {},
   "outputs": [],
   "source": [
    "df2['Rank']"
   ]
  },
  {
   "cell_type": "code",
   "execution_count": 20,
   "id": "8d6c8da2",
   "metadata": {},
   "outputs": [
    {
     "data": {
      "text/plain": [
       "Rank               43\n",
       "CCA3              UZB\n",
       "Country    Uzbekistan\n",
       "Capital      Tashkent\n",
       "Name: 224, dtype: object"
      ]
     },
     "execution_count": 20,
     "metadata": {},
     "output_type": "execute_result"
    }
   ],
   "source": [
    "df2.loc[224]"
   ]
  },
  {
   "cell_type": "code",
   "execution_count": 21,
   "id": "4eba51ad",
   "metadata": {},
   "outputs": [
    {
     "data": {
      "text/plain": [
       "Rank               43\n",
       "CCA3              UZB\n",
       "Country    Uzbekistan\n",
       "Capital      Tashkent\n",
       "Name: 224, dtype: object"
      ]
     },
     "execution_count": 21,
     "metadata": {},
     "output_type": "execute_result"
    }
   ],
   "source": [
    "df2.iloc[224]"
   ]
  }
 ],
 "metadata": {
  "kernelspec": {
   "display_name": "3.10.9",
   "language": "python",
   "name": "python3"
  },
  "language_info": {
   "codemirror_mode": {
    "name": "ipython",
    "version": 3
   },
   "file_extension": ".py",
   "mimetype": "text/x-python",
   "name": "python",
   "nbconvert_exporter": "python",
   "pygments_lexer": "ipython3",
   "version": "3.10.9"
  }
 },
 "nbformat": 4,
 "nbformat_minor": 5
}
